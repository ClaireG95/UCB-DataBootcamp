{
 "cells": [
  {
   "cell_type": "code",
   "execution_count": 1,
   "id": "4e260ad4",
   "metadata": {},
   "outputs": [],
   "source": [
    "import pandas as pd\n"
   ]
  },
  {
   "cell_type": "code",
   "execution_count": 2,
   "id": "820c45a8",
   "metadata": {},
   "outputs": [
    {
     "name": "stdout",
     "output_type": "stream",
     "text": [
      "              review_id  star_rating  helpful_votes  total_votes vine  \\\n",
      "0         REAKC26P07MDN            5              0            0    N   \n",
      "1        R3NU7OMZ4HQIEG            2              0            1    N   \n",
      "2        R14QJW3XF8QO1P            5              0            0    N   \n",
      "3        R2HB7AX0394ZGY            5              0            0    N   \n",
      "4         RGKMPDQGSAHR3            5              0            0    N   \n",
      "...                 ...          ...            ...          ...  ...   \n",
      "2643236   R40AVFLMGSX5Q            1             32           34    N   \n",
      "2643237  R13RP6H1OP0BFS            5              3            3    N   \n",
      "2643238  R34ITLN8LBTFZN            3             48           56    N   \n",
      "2643239   R30D2N6TX0OFS            3              7            7    N   \n",
      "2643240  R2MAGOAOXPFMF1            2             17           20    N   \n",
      "\n",
      "        verified_purchase  \n",
      "0                       Y  \n",
      "1                       Y  \n",
      "2                       Y  \n",
      "3                       Y  \n",
      "4                       Y  \n",
      "...                   ...  \n",
      "2643236                 N  \n",
      "2643237                 N  \n",
      "2643238                 N  \n",
      "2643239                 Y  \n",
      "2643240                 Y  \n",
      "\n",
      "[2643241 rows x 6 columns]\n"
     ]
    }
   ],
   "source": [
    "#import clean vine review dataframe\n",
    "vinetabledf=pd.read_csv('VineTable.csv')\n",
    "print(vinetabledf)"
   ]
  },
  {
   "cell_type": "code",
   "execution_count": 3,
   "id": "e19ae015",
   "metadata": {},
   "outputs": [
    {
     "name": "stdout",
     "output_type": "stream",
     "text": [
      "            review_id  star_rating  helpful_votes  total_votes vine  \\\n",
      "0      R21KC552Y6HL8X            1             27           31    N   \n",
      "1       RX9WC9FTIR1XR            5             25           25    N   \n",
      "2       RGDCOU1KBHMNG            3             29           31    N   \n",
      "3       RVTYWID2TPMMY            2             35           42    N   \n",
      "4      R2CMPZ5VESGRLY            4             27           28    N   \n",
      "...               ...          ...            ...          ...  ...   \n",
      "36977  R3EXWFRRIO00D0            1             46           47    N   \n",
      "36978  R1GQZZS7QESK3K            5             43           44    N   \n",
      "36979  R1ICJD0D2JCTG5            5             27           28    N   \n",
      "36980  R23T7717G46G3K            5             31           39    N   \n",
      "36981  R1ZFTKUMY8K1Q7            1             28           29    N   \n",
      "\n",
      "      verified_purchase  \n",
      "0                     Y  \n",
      "1                     Y  \n",
      "2                     Y  \n",
      "3                     Y  \n",
      "4                     Y  \n",
      "...                 ...  \n",
      "36977                 N  \n",
      "36978                 Y  \n",
      "36979                 N  \n",
      "36980                 Y  \n",
      "36981                 N  \n",
      "\n",
      "[36982 rows x 6 columns]\n"
     ]
    }
   ],
   "source": [
    "#import dataframe of vine reviews with 20 or more votes from vine_table\n",
    "vote20count=pd.read_csv('VoteCount20.csv')\n",
    "print(vote20count)"
   ]
  },
  {
   "cell_type": "code",
   "execution_count": 4,
   "id": "06b04cb2",
   "metadata": {},
   "outputs": [
    {
     "name": "stdout",
     "output_type": "stream",
     "text": [
      "            review_id  star_rating  helpful_votes  total_votes vine  \\\n",
      "0      R21KC552Y6HL8X            1             27           31    N   \n",
      "1       RX9WC9FTIR1XR            5             25           25    N   \n",
      "2       RGDCOU1KBHMNG            3             29           31    N   \n",
      "3       RVTYWID2TPMMY            2             35           42    N   \n",
      "4      R2CMPZ5VESGRLY            4             27           28    N   \n",
      "...               ...          ...            ...          ...  ...   \n",
      "35746  R3EXWFRRIO00D0            1             46           47    N   \n",
      "35747  R1GQZZS7QESK3K            5             43           44    N   \n",
      "35748  R1ICJD0D2JCTG5            5             27           28    N   \n",
      "35749  R23T7717G46G3K            5             31           39    N   \n",
      "35750  R1ZFTKUMY8K1Q7            1             28           29    N   \n",
      "\n",
      "      verified_purchase  \n",
      "0                     Y  \n",
      "1                     Y  \n",
      "2                     Y  \n",
      "3                     Y  \n",
      "4                     Y  \n",
      "...                 ...  \n",
      "35746                 N  \n",
      "35747                 Y  \n",
      "35748                 N  \n",
      "35749                 Y  \n",
      "35750                 N  \n",
      "\n",
      "[35751 rows x 6 columns]\n"
     ]
    }
   ],
   "source": [
    "#import dataframe where helpful votes are equal to 50% or greater than total votes from vote_count_20 table\n",
    "Vote50p=pd.read_csv('Vote50Percent.csv')\n",
    "print(Vote50p)"
   ]
  },
  {
   "cell_type": "code",
   "execution_count": 5,
   "id": "66fae4f1",
   "metadata": {},
   "outputs": [
    {
     "name": "stdout",
     "output_type": "stream",
     "text": [
      "          review_id  star_rating  helpful_votes  total_votes vine  \\\n",
      "0    R3A71VR1JZD8WF            2             27           30    Y   \n",
      "1    R16OMUJIGI18JZ            5             72           72    Y   \n",
      "2    R3TS8ZP2FHQ9XR            5             39           42    Y   \n",
      "3    R2MHP919VZN7DI            5             29           30    Y   \n",
      "4    R1JUJLXQ2CMWKF            4             25           26    Y   \n",
      "..              ...          ...            ...          ...  ...   \n",
      "157   RV5OQXGCYHSC6            5             24           28    Y   \n",
      "158  R2XLAQL0E2UPWQ            4             33           34    Y   \n",
      "159  R2UJFVH97OJORD            3            106          117    Y   \n",
      "160   RJXG84I331N9T            3            146          154    Y   \n",
      "161   RNGRV0353CDWX            4            109          115    Y   \n",
      "\n",
      "    verified_purchase  \n",
      "0                   N  \n",
      "1                   N  \n",
      "2                   N  \n",
      "3                   N  \n",
      "4                   N  \n",
      "..                ...  \n",
      "157                 N  \n",
      "158                 N  \n",
      "159                 N  \n",
      "160                 N  \n",
      "161                 N  \n",
      "\n",
      "[162 rows x 6 columns]\n"
     ]
    }
   ],
   "source": [
    "#import dataframe for vine reviews from vote_50_percent table\n",
    "vpreviews=pd.read_csv('VineProgramReviews.csv')\n",
    "print(vpreviews)"
   ]
  },
  {
   "cell_type": "code",
   "execution_count": 6,
   "id": "cbb67419",
   "metadata": {},
   "outputs": [
    {
     "name": "stdout",
     "output_type": "stream",
     "text": [
      "            review_id  star_rating  helpful_votes  total_votes vine  \\\n",
      "0      R21KC552Y6HL8X            1             27           31    N   \n",
      "1       RX9WC9FTIR1XR            5             25           25    N   \n",
      "2       RGDCOU1KBHMNG            3             29           31    N   \n",
      "3       RVTYWID2TPMMY            2             35           42    N   \n",
      "4      R2CMPZ5VESGRLY            4             27           28    N   \n",
      "...               ...          ...            ...          ...  ...   \n",
      "35584  R3EXWFRRIO00D0            1             46           47    N   \n",
      "35585  R1GQZZS7QESK3K            5             43           44    N   \n",
      "35586  R1ICJD0D2JCTG5            5             27           28    N   \n",
      "35587  R23T7717G46G3K            5             31           39    N   \n",
      "35588  R1ZFTKUMY8K1Q7            1             28           29    N   \n",
      "\n",
      "      verified_purchase  \n",
      "0                     Y  \n",
      "1                     Y  \n",
      "2                     Y  \n",
      "3                     Y  \n",
      "4                     Y  \n",
      "...                 ...  \n",
      "35584                 N  \n",
      "35585                 Y  \n",
      "35586                 N  \n",
      "35587                 Y  \n",
      "35588                 N  \n",
      "\n",
      "[35589 rows x 6 columns]\n"
     ]
    }
   ],
   "source": [
    "#import dataframe for non-vine reviews from vote_50_percent table \n",
    "nvdf=pd.read_csv('NonVineReviews.csv')\n",
    "print(nvdf)"
   ]
  },
  {
   "cell_type": "code",
   "execution_count": 41,
   "id": "7f34553a",
   "metadata": {},
   "outputs": [
    {
     "name": "stdout",
     "output_type": "stream",
     "text": [
      "162\n"
     ]
    }
   ],
   "source": [
    "#number of paid reviews\n",
    "paid_tot = len(vpreviews.index)\n",
    "print(paid_tot)"
   ]
  },
  {
   "cell_type": "code",
   "execution_count": 43,
   "id": "02223b8a",
   "metadata": {},
   "outputs": [
    {
     "name": "stdout",
     "output_type": "stream",
     "text": [
      "35589\n"
     ]
    }
   ],
   "source": [
    "#number of unpaid reviews\n",
    "unpaid_tot = len(nvdf.index)\n",
    "print(unpaid_tot)"
   ]
  },
  {
   "cell_type": "code",
   "execution_count": 55,
   "id": "f0d66cd5",
   "metadata": {},
   "outputs": [
    {
     "name": "stdout",
     "output_type": "stream",
     "text": [
      "35751\n"
     ]
    }
   ],
   "source": [
    "total= paid_tot+unpaid_tot\n",
    "print(total)"
   ]
  },
  {
   "cell_type": "code",
   "execution_count": 56,
   "id": "ea084469",
   "metadata": {},
   "outputs": [
    {
     "name": "stdout",
     "output_type": "stream",
     "text": [
      "0.45313417806494927\n",
      "99.54686582193504\n"
     ]
    }
   ],
   "source": [
    "#find percentage of paid and unpaid reviews\n",
    "paid_percentage=(paid_tot/total)*100\n",
    "unpaid_percentage=(unpaid_tot/total)*100\n",
    "print(paid_percentage)\n",
    "print(unpaid_percentage)"
   ]
  },
  {
   "cell_type": "code",
   "execution_count": 11,
   "id": "8137a4d7",
   "metadata": {},
   "outputs": [
    {
     "name": "stdout",
     "output_type": "stream",
     "text": [
      "3.9814814814814814\n"
     ]
    }
   ],
   "source": [
    "#find avg star rating of paid reviews\n",
    "avgrat_paid=vpreviews[\"star_rating\"].mean()\n",
    "print(avgrat_paid)"
   ]
  },
  {
   "cell_type": "code",
   "execution_count": 12,
   "id": "91b0e839",
   "metadata": {},
   "outputs": [
    {
     "name": "stdout",
     "output_type": "stream",
     "text": [
      "3.7686925735480066\n"
     ]
    }
   ],
   "source": [
    "#find avg star rating of unpaid reviews\n",
    "avgrat_unpaid = nvdf[\"star_rating\"].mean()\n",
    "print(avgrat_unpaid)"
   ]
  },
  {
   "cell_type": "code",
   "execution_count": 62,
   "id": "b27ad0ce",
   "metadata": {},
   "outputs": [
    {
     "name": "stdout",
     "output_type": "stream",
     "text": [
      "Percentage of 1 Star Vine Reviews:\n",
      "1.8518518518518516\n",
      "Percentage of 2 Star Vine Reviews:\n",
      "9.25925925925926\n",
      "Percentage of 3 Star Vine Reviews:\n",
      "16.666666666666664\n",
      "Percentage of 4 Star Vine Reviews:\n",
      "33.33333333333333\n",
      "Percentage of 5 Star Vine Reviews:\n",
      "38.88888888888889\n"
     ]
    }
   ],
   "source": [
    "#find percentages of all star reviews for paid reviews\n",
    "onestar_paid= len(vpreviews[vpreviews[\"star_rating\"] == 1])\n",
    "print(\"Percentage of 1 Star Vine Reviews:\")\n",
    "print((onestar_paid/paid_tot)*100)\n",
    "print(\"Percentage of 2 Star Vine Reviews:\")\n",
    "twostar_paid= len(vpreviews[vpreviews[\"star_rating\"] == 2])\n",
    "print((twostar_paid/paid_tot)*100)\n",
    "print(\"Percentage of 3 Star Vine Reviews:\")\n",
    "threestar_paid =  len(vpreviews[vpreviews[\"star_rating\"] == 3])\n",
    "print((threestar_paid/paid_tot)*100)\n",
    "print(\"Percentage of 4 Star Vine Reviews:\")\n",
    "fourstar_paid = len(vpreviews[vpreviews[\"star_rating\"] == 4])\n",
    "print((fourstar_paid/paid_tot)*100)\n",
    "print(\"Percentage of 5 Star Vine Reviews:\")\n",
    "fivestar_paid= len(vpreviews[vpreviews[\"star_rating\"] == 5])\n",
    "print((fivestar_paid/paid_tot)*100)"
   ]
  },
  {
   "cell_type": "code",
   "execution_count": 63,
   "id": "e4cc7133",
   "metadata": {},
   "outputs": [
    {
     "name": "stdout",
     "output_type": "stream",
     "text": [
      "Percentage of 1 Star non-Vine Reviews:\n",
      "19.96403383067802\n",
      "Percentage of 2 Star non-Vine Reviews:\n",
      "5.3864958273623875\n",
      "Percentage of 3 Star non-Vine Reviews:\n",
      "7.08083958526511\n",
      "Percentage of 4 Star non-Vine Reviews:\n",
      "12.953440669869904\n",
      "Percentage of 5 Star non-Vine Reviews:\n",
      "54.61519008682458\n"
     ]
    }
   ],
   "source": [
    "#find percentages of all star reviews for unpaid reviews\n",
    "onestar_unpaid= len(nvdf[nvdf[\"star_rating\"] == 1])\n",
    "print(\"Percentage of 1 Star non-Vine Reviews:\")\n",
    "print((onestar_unpaid/unpaid_tot)*100)\n",
    "print(\"Percentage of 2 Star non-Vine Reviews:\")\n",
    "twostar_unpaid= len(nvdf[nvdf[\"star_rating\"] == 2])\n",
    "print((twostar_unpaid/unpaid_tot)*100)\n",
    "print(\"Percentage of 3 Star non-Vine Reviews:\")\n",
    "threestar_unpaid =  len(nvdf[nvdf[\"star_rating\"] == 3])\n",
    "print((threestar_unpaid/unpaid_tot)*100)\n",
    "print(\"Percentage of 4 Star non-Vine Reviews:\")\n",
    "fourstar_unpaid = len(nvdf[nvdf[\"star_rating\"] == 4])\n",
    "print((fourstar_unpaid/unpaid_tot)*100)\n",
    "print(\"Percentage of 5 Star non-Vine Reviews:\")\n",
    "fivestar_unpaid= len(nvdf[nvdf[\"star_rating\"] == 5])\n",
    "print((fivestar_unpaid/unpaid_tot)*100)"
   ]
  },
  {
   "cell_type": "code",
   "execution_count": 59,
   "id": "3cb5c10f",
   "metadata": {},
   "outputs": [
    {
     "name": "stdout",
     "output_type": "stream",
     "text": [
      "5 Star Vine Reviews:\n",
      "63\n",
      "5 Star Non-Vine Reviews:\n",
      "19437\n"
     ]
    }
   ],
   "source": [
    "print(\"5 Star Vine Reviews:\")\n",
    "print(fivestar_paid)\n",
    "print(\"5 Star Non-Vine Reviews:\")\n",
    "print(fivestar_unpaid)"
   ]
  },
  {
   "cell_type": "code",
   "execution_count": null,
   "id": "78cfcd0e",
   "metadata": {},
   "outputs": [],
   "source": []
  }
 ],
 "metadata": {
  "kernelspec": {
   "display_name": "PythonData",
   "language": "python",
   "name": "pythondata"
  },
  "language_info": {
   "codemirror_mode": {
    "name": "ipython",
    "version": 3
   },
   "file_extension": ".py",
   "mimetype": "text/x-python",
   "name": "python",
   "nbconvert_exporter": "python",
   "pygments_lexer": "ipython3",
   "version": "3.9.7"
  }
 },
 "nbformat": 4,
 "nbformat_minor": 5
}
